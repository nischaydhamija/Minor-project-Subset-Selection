{
  "nbformat": 4,
  "nbformat_minor": 0,
  "metadata": {
    "colab": {
      "provenance": [],
      "authorship_tag": "ABX9TyP7UXVuN7AU5Fnw0bLNbv9M",
      "include_colab_link": true
    },
    "kernelspec": {
      "name": "python3",
      "display_name": "Python 3"
    },
    "language_info": {
      "name": "python"
    }
  },
  "cells": [
    {
      "cell_type": "markdown",
      "metadata": {
        "id": "view-in-github",
        "colab_type": "text"
      },
      "source": [
        "<a href=\"https://colab.research.google.com/github/nischaydhamija/Minor-projects/blob/main/subset_selection.ipynb\" target=\"_parent\"><img src=\"https://colab.research.google.com/assets/colab-badge.svg\" alt=\"Open In Colab\"/></a>"
      ]
    },
    {
      "cell_type": "markdown",
      "source": [
        "### **SUBSET SELECTION PROBLEM**\n",
        "1. Problem Statement:\n",
        "Find all the subsets from a set of numbers whose sum is zero.\n",
        "\n",
        "Constraint: Subset size must be 5\n",
        "Set={-12, -3, -6, 7, 2, -2, 6, 3, 9, -7, -5, -8, 1, 11, -9, -4}"
      ],
      "metadata": {
        "id": "JmVqVdgaQ53T"
      }
    },
    {
      "cell_type": "code",
      "execution_count": null,
      "metadata": {
        "colab": {
          "base_uri": "https://localhost:8080/"
        },
        "id": "Zz-QJuOYBEba",
        "outputId": "a7456314-99e3-44ca-91e5-d244bc7798ef"
      },
      "outputs": [
        {
          "output_type": "stream",
          "name": "stdout",
          "text": [
            "(7, -9, 1, 3, -2)\n",
            "(-4, 7, 1, -6, 2)\n",
            "(6, -6, 1, 7, -8)\n",
            "(-7, 11, -8, 7, -3)\n",
            "(3, 2, 1, -4, -2)\n",
            "(-2, 3, -7, -3, 9)\n",
            "(-7, 1, 11, -3, -2)\n",
            "(-3, 1, -8, 3, 7)\n",
            "(9, -2, -12, 2, 3)\n",
            "(-3, 6, -2, 11, -12)\n",
            "(-3, 9, -2, 3, -7)\n",
            "(-2, 9, -7, 3, -3)\n",
            "(-2, 11, 2, -3, -8)\n",
            "(11, -3, 2, -6, -4)\n",
            "(-12, 9, -4, 6, 1)\n",
            "(6, -3, 9, -8, -4)\n",
            "(-8, -6, 3, 9, 2)\n",
            "Total Sets: 17\n"
          ]
        }
      ],
      "source": [
        "import random as r\n",
        "\n",
        "number_pool = set([-12, -3, -6, 7, 2, -2, 6, 3, 9, -7, -5, -8, 1, 11, -9, -4])\n",
        "results = set()\n",
        "iterations = 1000\n",
        "\n",
        "for i in range(iterations):\n",
        "    subset = r.sample(list(number_pool), 5)\n",
        "    if sum(subset) == 0:\n",
        "        results.add(tuple(subset))  # Make it hashable\n",
        "\n",
        "for item in results:\n",
        "    print(item)\n",
        "\n",
        "print(\"Total Sets:\", len(results))\n"
      ]
    },
    {
      "cell_type": "markdown",
      "source": [
        "2. Problem Statement:\n",
        "Find all the subsets from a set of numbers whose sum is zero.\n",
        "\n",
        "Constraint: Subset size must be 3 to 6 only\n",
        "Set={-12, -3, -6, 7, 2, -2, 6, 3, 9, -7, -5, -8, 1, 11, -9, -4}"
      ],
      "metadata": {
        "id": "atUyoi3iRp8K"
      }
    },
    {
      "cell_type": "code",
      "source": [
        "import random as r\n",
        "number_pool = set([-12, -3, -6, 7, 2, -2, 6, 3, 9, -7, -5, -8, 1, 11, -9, -4])\n",
        "setlb = 3\n",
        "setub = 6\n",
        "Result = set()\n",
        "iterations = 1000\n",
        "\n",
        "for i in range(iterations):\n",
        "  setsize = r.randint(setlb,setub)\n",
        "\n",
        "  subset = r.sample(list(number_pool),setsize)\n",
        "  subset.sort()\n",
        "\n",
        "  if sum(subset)==0:\n",
        "    Result.add(tuple(subset))\n",
        "\n",
        "for r in Result:\n",
        "  print(r)\n",
        "\n",
        "print(\"total sets\", len(Result))"
      ],
      "metadata": {
        "id": "2CAIhftXRvH6",
        "colab": {
          "base_uri": "https://localhost:8080/"
        },
        "outputId": "564d7b9c-ccf8-4ace-a12c-7151278c3b5e"
      },
      "execution_count": 2,
      "outputs": [
        {
          "output_type": "stream",
          "name": "stdout",
          "text": [
            "(-12, -6, 2, 7, 9)\n",
            "(-5, -4, 1, 2, 6)\n",
            "(-5, -4, -3, 1, 11)\n",
            "(-7, -4, 2, 3, 6)\n",
            "(-12, -3, -2, 6, 11)\n",
            "(-12, 3, 9)\n",
            "(-7, -4, 1, 3, 7)\n",
            "(-9, -7, -4, 2, 7, 11)\n",
            "(-7, -6, -2, 6, 9)\n",
            "(-8, -5, -3, 2, 3, 11)\n",
            "(-6, -4, 3, 7)\n",
            "(-12, -5, -2, 3, 7, 9)\n",
            "(-8, 2, 6)\n",
            "(-12, -5, -2, 1, 7, 11)\n",
            "(-9, -7, -2, 7, 11)\n",
            "(-9, -6, -3, 2, 7, 9)\n",
            "(-12, -7, -3, 6, 7, 9)\n",
            "(-12, -6, 7, 11)\n",
            "(-5, -2, 7)\n",
            "(-6, -5, 11)\n",
            "(-9, -5, 1, 6, 7)\n",
            "(-7, -6, 2, 11)\n",
            "(-7, -3, 3, 7)\n",
            "(-8, -3, 11)\n",
            "(-5, -4, 9)\n",
            "total sets 25\n"
          ]
        }
      ]
    }
  ]
}