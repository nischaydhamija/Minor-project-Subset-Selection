{
  "nbformat": 4,
  "nbformat_minor": 0,
  "metadata": {
    "colab": {
      "provenance": [],
      "authorship_tag": "ABX9TyNXejr2Nul4AOv8B8EaJVGO",
      "include_colab_link": true
    },
    "kernelspec": {
      "name": "python3",
      "display_name": "Python 3"
    },
    "language_info": {
      "name": "python"
    }
  },
  "cells": [
    {
      "cell_type": "markdown",
      "metadata": {
        "id": "view-in-github",
        "colab_type": "text"
      },
      "source": [
        "<a href=\"https://colab.research.google.com/github/nischaydhamija/Minor-projects/blob/main/subset_selection.ipynb\" target=\"_parent\"><img src=\"https://colab.research.google.com/assets/colab-badge.svg\" alt=\"Open In Colab\"/></a>"
      ]
    },
    {
      "cell_type": "markdown",
      "source": [
        "Python program sorting hetrogeneous data"
      ],
      "metadata": {
        "id": "YlCPq1SCBqpG"
      }
    },
    {
      "cell_type": "code",
      "execution_count": 2,
      "metadata": {
        "colab": {
          "base_uri": "https://localhost:8080/"
        },
        "id": "Zz-QJuOYBEba",
        "outputId": "a7456314-99e3-44ca-91e5-d244bc7798ef"
      },
      "outputs": [
        {
          "output_type": "stream",
          "name": "stdout",
          "text": [
            "(7, -9, 1, 3, -2)\n",
            "(-4, 7, 1, -6, 2)\n",
            "(6, -6, 1, 7, -8)\n",
            "(-7, 11, -8, 7, -3)\n",
            "(3, 2, 1, -4, -2)\n",
            "(-2, 3, -7, -3, 9)\n",
            "(-7, 1, 11, -3, -2)\n",
            "(-3, 1, -8, 3, 7)\n",
            "(9, -2, -12, 2, 3)\n",
            "(-3, 6, -2, 11, -12)\n",
            "(-3, 9, -2, 3, -7)\n",
            "(-2, 9, -7, 3, -3)\n",
            "(-2, 11, 2, -3, -8)\n",
            "(11, -3, 2, -6, -4)\n",
            "(-12, 9, -4, 6, 1)\n",
            "(6, -3, 9, -8, -4)\n",
            "(-8, -6, 3, 9, 2)\n",
            "Total Sets: 17\n"
          ]
        }
      ],
      "source": [
        "import random as r\n",
        "\n",
        "number_pool = set([-12, -3, -6, 7, 2, -2, 6, 3, 9, -7, -5, -8, 1, 11, -9, -4])\n",
        "results = set()\n",
        "iterations = 1000\n",
        "\n",
        "for i in range(iterations):\n",
        "    subset = r.sample(list(number_pool), 5)\n",
        "    if sum(subset) == 0:\n",
        "        results.add(tuple(subset))  # Make it hashable\n",
        "\n",
        "for item in results:\n",
        "    print(item)\n",
        "\n",
        "print(\"Total Sets:\", len(results))\n"
      ]
    }
  ]
}